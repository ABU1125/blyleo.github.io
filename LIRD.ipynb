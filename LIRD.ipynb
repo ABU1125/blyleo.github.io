{
  "nbformat": 4,
  "nbformat_minor": 0,
  "metadata": {
    "colab": {
      "name": "LIRD.ipynb",
      "provenance": [],
      "collapsed_sections": [
        "gwoaes5UyJJS",
        "gfGFFQeZyQfG",
        "ZGvAXnJayWjt",
        "3-rEdckqygGY",
        "lVAPvO0Nyyy3",
        "KNP3jdofyh7M"
      ],
      "machine_shape": "hm",
      "include_colab_link": true
    },
    "kernelspec": {
      "name": "python3",
      "display_name": "Python 3"
    }
  },
  "cells": [
    {
      "cell_type": "markdown",
      "metadata": {
        "id": "view-in-github",
        "colab_type": "text"
      },
      "source": [
        "<a href=\"https://colab.research.google.com/github/ABU1125/blyleo.github.io/blob/main/LIRD.ipynb\" target=\"_parent\"><img src=\"https://colab.research.google.com/assets/colab-badge.svg\" alt=\"Open In Colab\"/></a>"
      ]
    },
    {
      "cell_type": "code",
      "metadata": {
        "id": "4VCoNiElLnK4"
      },
      "source": [
        "from google.colab import files"
      ],
      "execution_count": 1,
      "outputs": []
    },
    {
      "cell_type": "code",
      "metadata": {
        "id": "uKmjjI_7qfaP"
      },
      "source": [
        "import itertools\n",
        "import pandas as pd\n",
        "import numpy as np\n",
        "import random\n",
        "import csv\n",
        "import time\n",
        "\n",
        "import matplotlib.pyplot as plt\n",
        "\n",
        "import tensorflow as tf\n",
        "import keras.backend as K\n",
        "import keras\n",
        "# import tensorflow.keras.backend as K\n",
        "from keras import Sequential\n",
        "from keras.layers import Dense, Dropout"
      ],
      "execution_count": 4,
      "outputs": []
    },
    {
      "cell_type": "markdown",
      "metadata": {
        "id": "gwoaes5UyJJS"
      },
      "source": [
        "# MovieLens 100k Generator"
      ]
    },
    {
      "cell_type": "code",
      "metadata": {
        "id": "K2H9eM4YuOy6"
      },
      "source": [
        "# !wget http://files.grouplens.org/datasets/movielens/ml-100k.zip\n",
        "# !unzip -q ml-100k.zip"
      ],
      "execution_count": 3,
      "outputs": []
    },
    {
      "cell_type": "code",
      "metadata": {
        "id": "yST4dc3wtm2T"
      },
      "source": [
        "class DataGenerator():\n",
        "  def __init__(self, datapath, itempath):\n",
        "    '''\n",
        "    Load data from the DB MovieLens\n",
        "    List the users and the items\n",
        "    List all the users historic\n",
        "    '''\n",
        "    self.data  = self.load_datas(datapath, itempath)\n",
        "    self.users = self.data['userId'].unique()   #list of all users\n",
        "    self.items = self.data['itemId'].unique()   #list of all items\n",
        "    self.histo = self.gen_histo()\n",
        "    self.train = []\n",
        "    self.test  = []\n",
        "\n",
        "  def load_datas(self, datapath, itempath):\n",
        "    '''\n",
        "    Load the data and merge the name of each movie.\n",
        "    A row corresponds to a rate given by a user to a movie.\n",
        "\n",
        "     Parameters\n",
        "    ----------\n",
        "    datapath :  string\n",
        "                path to the data 100k MovieLens\n",
        "                contains usersId;itemId;rating\n",
        "    itempath :  string\n",
        "                path to the data 100k MovieLens\n",
        "                contains itemId;itemName\n",
        "     Returns\n",
        "    -------\n",
        "    result :    DataFrame\n",
        "                Contains all the ratings\n",
        "    '''\n",
        "    data = pd.read_csv(datapath, sep='\\t',\n",
        "                       names=['userId', 'itemId', 'rating', 'timestamp'])\n",
        "    movie_titles = pd.read_csv(itempath, sep='|', names=['itemId', 'itemName'],\n",
        "                           usecols=range(2), encoding='latin-1')\n",
        "    return data.merge(movie_titles,on='itemId', how='left')\n",
        "\n",
        "\n",
        "  def gen_histo(self):\n",
        "    '''\n",
        "    Group all rates given by users and store them from older to most recent.\n",
        "\n",
        "    Returns\n",
        "    -------\n",
        "    result :    List(DataFrame)\n",
        "                List of the historic for each user\n",
        "    '''\n",
        "    historic_users = []\n",
        "    for i, u in enumerate(self.users):\n",
        "      temp = self.data[self.data['userId'] == u]\n",
        "      temp = temp.sort_values('timestamp').reset_index()\n",
        "      temp.drop('index', axis=1, inplace=True)\n",
        "      historic_users.append(temp)\n",
        "    return historic_users\n",
        "\n",
        "  def sample_histo(self, user_histo, action_ratio=0.8, max_samp_by_user=5,  max_state=100, max_action=50, nb_states=[], nb_actions=[]):\n",
        "    '''\n",
        "    For a given historic, make one or multiple sampling.\n",
        "    If no optional argument given for nb_states and nb_actions, then the sampling\n",
        "    is random and each sample can have differents size for action and state.\n",
        "    To normalize sampling we need to give list of the numbers of states and actions\n",
        "    to be sampled.\n",
        "\n",
        "    Parameters\n",
        "    ----------\n",
        "    user_histo :  DataFrame\n",
        "                      historic of user\n",
        "    delimiter :       string, optional\n",
        "                      delimiter for the csv\n",
        "    action_ratio :    float, optional\n",
        "                      ratio form which movies in history will be selected\n",
        "    max_samp_by_user: int, optional\n",
        "                      Nulber max of sample to make by user\n",
        "    max_state :       int, optional\n",
        "                      Number max of movies to take for the 'state' column\n",
        "    max_action :      int, optional\n",
        "                      Number max of movies to take for the 'action' action\n",
        "    nb_states :       array(int), optional\n",
        "                      Numbers of movies to be taken for each sample made on user's historic\n",
        "    nb_actions :      array(int), optional\n",
        "                      Numbers of rating to be taken for each sample made on user's historic\n",
        "\n",
        "    Returns\n",
        "    -------\n",
        "    states :         List(String)\n",
        "                     All the states sampled, format of a sample: itemId&rating\n",
        "    actions :        List(String)\n",
        "                     All the actions sampled, format of a sample: itemId&rating\n",
        "\n",
        "\n",
        "    Notes\n",
        "    -----\n",
        "    States must be before(timestamp<) the actions.\n",
        "    If given, size of nb_states is the numbller of sample by user\n",
        "    sizes of nb_states and nb_actions must be equals\n",
        "    '''\n",
        "\n",
        "    n = len(user_histo)\n",
        "    sep = int(action_ratio * n)\n",
        "    nb_sample = random.randint(1, max_samp_by_user)\n",
        "    if not nb_states:\n",
        "      nb_states = [min(random.randint(1, sep), max_state) for i in range(nb_sample)]\n",
        "    if not nb_actions:\n",
        "      nb_actions = [min(random.randint(1, n - sep), max_action) for i in range(nb_sample)]\n",
        "    assert len(nb_states) == len(nb_actions), 'Given array must have the same size'\n",
        "\n",
        "    states  = []\n",
        "    actions = []\n",
        "    # SELECT SAMPLES IN HISTO\n",
        "    for i in range(len(nb_states)):\n",
        "      sample_states = user_histo.iloc[0:sep].sample(nb_states[i])\n",
        "      sample_actions = user_histo.iloc[-(n - sep):].sample(nb_actions[i])\n",
        "\n",
        "      sample_state =  []\n",
        "      sample_action = []\n",
        "      for j in range(nb_states[i]):\n",
        "        row   = sample_states.iloc[j]\n",
        "        # FORMAT STATE\n",
        "        state = str(row.loc['itemId']) + '&' + str(row.loc['rating'])\n",
        "        sample_state.append(state)\n",
        "\n",
        "      for j in range(nb_actions[i]):\n",
        "        row    = sample_actions.iloc[j]\n",
        "        # FORMAT ACTION\n",
        "        action = str(row.loc['itemId']) + '&' + str(row.loc['rating'])\n",
        "        sample_action.append(action)\n",
        "\n",
        "      states.append(sample_state)\n",
        "      actions.append(sample_action)\n",
        "    return states, actions\n",
        "\n",
        "  def gen_train_test(self, test_ratio, seed=None):\n",
        "    '''\n",
        "    Shuffle the historic of users and separate it in a train and a test set.\n",
        "    Store the ids for each set.\n",
        "    An user can't be in both set.\n",
        "\n",
        "     Parameters\n",
        "    ----------\n",
        "    test_ratio :  float\n",
        "                  Ratio to control the sizes of the sets\n",
        "    seed       :  float\n",
        "                  Seed on the shuffle\n",
        "    '''\n",
        "    n = len(self.histo)\n",
        "\n",
        "    if seed is not None:\n",
        "      random.Random(seed).shuffle(self.histo)\n",
        "    else:\n",
        "      random.shuffle(self.histo)\n",
        "\n",
        "    self.train = self.histo[:int((test_ratio * n))]\n",
        "    self.test  = self.histo[int((test_ratio * n)):]\n",
        "    self.user_train = [h.iloc[0,0] for h in self.train]\n",
        "    self.user_test  = [h.iloc[0,0] for h in self.test]\n",
        "\n",
        "\n",
        "  def write_csv(self, filename, histo_to_write, delimiter=';', action_ratio=0.8, max_samp_by_user=5, max_state=100, max_action=50, nb_states=[], nb_actions=[]):\n",
        "    '''\n",
        "    From  a given historic, create a csv file with the format:\n",
        "    columns : state;action_reward;n_state\n",
        "    rows    : itemid&rating1 | itemid&rating2 | ... ; itemid&rating3 | ... | itemid&rating4; itemid&rating1 | itemid&rating2 | itemid&rating3 | ... | item&rating4\n",
        "    at filename location.\n",
        "\n",
        "    Parameters\n",
        "    ----------\n",
        "    filename :        string\n",
        "                      path to the file to be produced\n",
        "    histo_to_write :  List(DataFrame)\n",
        "                      List of the historic for each user\n",
        "    delimiter :       string, optional\n",
        "                      delimiter for the csv\n",
        "    action_ratio :    float, optional\n",
        "                      ratio form which movies in history will be selected\n",
        "    max_samp_by_user: int, optional\n",
        "                      Nulber max of sample to make by user\n",
        "    max_state :       int, optional\n",
        "                      Number max of movies to take for the 'state' column\n",
        "    max_action :      int, optional\n",
        "                      Number max of movies to take for the 'action' action\n",
        "    nb_states :       array(int), optional\n",
        "                      Numbers of movies to be taken for each sample made on user's historic\n",
        "    nb_actions :      array(int), optional\n",
        "                      Numbers of rating to be taken for each sample made on user's historic\n",
        "\n",
        "    Notes\n",
        "    -----\n",
        "    if given, size of nb_states is the numbller of sample by user\n",
        "    sizes of nb_states and nb_actions must be equals\n",
        "\n",
        "    '''\n",
        "    with open(filename, mode='w') as file:\n",
        "      f_writer = csv.writer(file, delimiter=delimiter)\n",
        "      f_writer.writerow(['state', 'action_reward', 'n_state'])\n",
        "      for user_histo in histo_to_write:\n",
        "        states, actions = self.sample_histo(user_histo, action_ratio, max_samp_by_user, max_state, max_action, nb_states, nb_actions)\n",
        "        for i in range(len(states)):\n",
        "          # FORMAT STATE\n",
        "          state_str   = '|'.join(states[i])\n",
        "          # FORMAT ACTION\n",
        "          action_str  = '|'.join(actions[i])\n",
        "          # FORMAT N_STATE\n",
        "          n_state_str = state_str + '|' + action_str\n",
        "          f_writer.writerow([state_str, action_str, n_state_str])"
      ],
      "execution_count": 4,
      "outputs": []
    },
    {
      "cell_type": "markdown",
      "metadata": {
        "id": "gfGFFQeZyQfG"
      },
      "source": [
        "# Movies Embeddings"
      ]
    },
    {
      "cell_type": "code",
      "metadata": {
        "id": "578-inzm24sj"
      },
      "source": [
        "class EmbeddingsGenerator:\n",
        "  def  __init__(self, train_users, data):\n",
        "    self.train_users = train_users\n",
        "\n",
        "    #preprocess\n",
        "    self.data = data.sort_values(by=['timestamp'])\n",
        "    #使ID从0开始\n",
        "    self.data['userId'] = self.data['userId'] - 1\n",
        "    self.data['itemId'] = self.data['itemId'] - 1\n",
        "    # 统计用户和电影数量\n",
        "    self.user_count = self.data['userId'].max() + 1\n",
        "    self.movie_count = self.data['itemId'].max() + 1\n",
        "    # 记录每个用户看过的电影\n",
        "    self.user_movies = {} #list of rated movies by each user\n",
        "    for userId in range(self.user_count):\n",
        "      self.user_movies[userId] = self.data[self.data.userId == userId]['itemId'].tolist()\n",
        "    # 构建神经网络\n",
        "    self.m = self.model()\n",
        "\n",
        "\n",
        "  def model(self, hidden_layer_size=100):\n",
        "    '''\n",
        "    hidden_layer_size：表示隐藏层的神经元数量。\n",
        "    '''\n",
        "\n",
        "    m = Sequential() # 创建顺序模型\n",
        "    m.add(Dense(hidden_layer_size, input_shape=(1, self.movie_count))) # 全连接层 Dense(units=输出维度, activation=激活函数, input_shape=输入维度)\n",
        "    m.add(Dropout(0.2)) # 随机丢弃层 丢弃 20% 的神经元\n",
        "    m.add(Dense(self.movie_count, activation='softmax')) # 输出各电影的概率\n",
        "    m.compile(optimizer='adam', loss='categorical_crossentropy', metrics=['accuracy']) # 准确率评估\n",
        "    return m\n",
        "\n",
        "  def generate_input(self, user_id):\n",
        "    '''\n",
        "    Returns a context and a target for the user_id\n",
        "    context: user's history with one random movie removed\n",
        "    target: id of random removed movie\n",
        "    模拟一个预测任务\n",
        "    '''\n",
        "    user_movies_count = len(self.user_movies[user_id])\n",
        "    #随机选择一个电影作为目标\n",
        "    random_index = np.random.randint(0, user_movies_count-1) # -1 avoids taking the last movie\n",
        "    #setting target\n",
        "    target = np.zeros((1, self.movie_count))\n",
        "    target[0][self.user_movies[user_id][random_index]] = 1\n",
        "    #setting context\n",
        "    context = np.zeros((1, self.movie_count))\n",
        "    context[0][self.user_movies[user_id][:random_index] + self.user_movies[user_id][random_index+1:]] = 1\n",
        "    return context, target\n",
        "\n",
        "  def train(self, nb_epochs = 300, batch_size = 10000):\n",
        "    '''\n",
        "    Trains the model from train_users's history\n",
        "    nb_epochs是迭代次数，batch_size是每批的样本数\n",
        "    在每个epoch中，生成一批训练数据，X_train是上下文，y_train是目标，然后调用模型的fit方法进行训练\n",
        "    '''\n",
        "    for i in range(nb_epochs):\n",
        "      print('%d/%d' % (i+1, nb_epochs))\n",
        "      batch = [self.generate_input(user_id=np.random.choice(self.train_users) - 1) for _ in range(batch_size)]\n",
        "      X_train = np.array([b[0] for b in batch])\n",
        "      y_train = np.array([b[1] for b in batch])\n",
        "      self.m.fit(X_train, y_train, epochs=1, validation_split=0.5)\n",
        "\n",
        "  def test(self, test_users, batch_size = 100000):\n",
        "    '''\n",
        "    Returns [loss, accuracy] on the test set\n",
        "    '''\n",
        "    batch_test = [self.generate_input(user_id=np.random.choice(test_users) - 1) for _ in range(batch_size)]\n",
        "    X_test = np.array([b[0] for b in batch_test])\n",
        "    y_test = np.array([b[1] for b in batch_test])\n",
        "    return self.m.evaluate(X_test, y_test)\n",
        "\n",
        "  def save_embeddings(self, file_name):\n",
        "    '''\n",
        "    Generates a csv file containg the vector embedding for each movie.\n",
        "    '''\n",
        "\n",
        "    inp = [layer.input for layer in self.m.layers]\n",
        "    #inp = self.m.input                                           # input placeholder 获取模型的输入张量\n",
        "    outputs = [layer.output for layer in self.m.layers]          # all layer outputs 使用列表推导式获取模型中每一层的输出张量\n",
        "    functor = K.function([inp, K.learning_phase()], outputs )   # evaluation function 返回模型各层的输出\n",
        "\n",
        "    #append embeddings to vectors\n",
        "    vectors = []\n",
        "    for movie_id in range(self.movie_count):\n",
        "      movie = np.zeros((1, 1, self.movie_count))\n",
        "      movie[0][0][movie_id] = 1 #电影的独热编码\n",
        "      layer_outs = functor([movie])\n",
        "      vector = [str(v) for v in layer_outs[0][0][0]] #提取模型第一层输出中对应电影的嵌入向量，并将向量中的每个元素转换为字符串，存储在列表 vector 中\n",
        "      # layer_outs[0]：第 0 层（Dense 层）的输出\n",
        "      vector = '|'.join(vector)\n",
        "      vectors.append([movie_id, vector])\n",
        "\n",
        "    #saves as a csv file\n",
        "    embeddings = pd.DataFrame(vectors, columns=['item_id', 'vectors']).astype({'item_id': 'int32'})\n",
        "    embeddings.to_csv(file_name, sep=';', index=False)\n",
        "    files.download(file_name)"
      ],
      "execution_count": 32,
      "outputs": []
    },
    {
      "cell_type": "code",
      "metadata": {
        "id": "wpKB5xexLvSI"
      },
      "source": [
        "class Embeddings:\n",
        "  def __init__(self, item_embeddings):\n",
        "    self.item_embeddings = item_embeddings\n",
        "\n",
        "  def size(self):\n",
        "    return self.item_embeddings.shape[1]\n",
        "\n",
        "  def get_embedding_vector(self):\n",
        "    return self.item_embeddings\n",
        "\n",
        "  def get_embedding(self, item_index):\n",
        "    return self.item_embeddings[item_index]\n",
        "\n",
        "  def embed(self, item_list):\n",
        "    return np.array([self.get_embedding(item) for item in item_list])"
      ],
      "execution_count": 6,
      "outputs": []
    },
    {
      "cell_type": "code",
      "metadata": {
        "id": "AolIkmf0LWZP"
      },
      "source": [
        "def read_file(data_path):\n",
        "  ''' Load data from train.csv or test.csv. '''\n",
        "\n",
        "  data = pd.read_csv(data_path, sep=';')\n",
        "  for col in ['state', 'n_state', 'action_reward']:\n",
        "    data[col] = [np.array([[np.int32(k) for k in ee.split('&')] for ee in e.split('|')]) for e in data[col]]\n",
        "  for col in ['state', 'n_state']:\n",
        "    data[col] = [np.array([e[0] for e in l]) for l in data[col]]\n",
        "\n",
        "  data['action'] = [[e[0] for e in l] for l in data['action_reward']]\n",
        "  data['reward'] = [tuple(e[1] for e in l) for l in data['action_reward']]\n",
        "  data.drop(columns=['action_reward'], inplace=True)\n",
        "\n",
        "  return data\n",
        "\n",
        "def read_embeddings(embeddings_path):\n",
        "  ''' Load embeddings (a vector for each item). '''\n",
        "\n",
        "  embeddings = pd.read_csv(embeddings_path, sep=';')\n",
        "\n",
        "  return np.array([[np.float64(k) for k in e.split('|')]\n",
        "                   for e in embeddings['vectors']])"
      ],
      "execution_count": 7,
      "outputs": []
    },
    {
      "cell_type": "markdown",
      "metadata": {
        "id": "ZGvAXnJayWjt"
      },
      "source": [
        "# Environment/Simulator"
      ]
    },
    {
      "cell_type": "code",
      "metadata": {
        "id": "H00n2XsouByw"
      },
      "source": [
        "class Environment():\n",
        "  def __init__(self, data, embeddings, alpha, gamma, fixed_length):\n",
        "    self.embeddings = embeddings\n",
        "\n",
        "    self.embedded_data = pd.DataFrame()\n",
        "    self.embedded_data['state'] = [np.array([embeddings.get_embedding(item_id)\n",
        "      for item_id in row['state']]) for _, row in data.iterrows()]\n",
        "    self.embedded_data['action'] = [np.array([embeddings.get_embedding(item_id)\n",
        "      for item_id in row['action']]) for _, row in data.iterrows()]\n",
        "    self.embedded_data['reward'] = data['reward']\n",
        "\n",
        "    self.alpha = alpha # α (alpha) in Equation (1)\n",
        "    self.gamma = gamma # Γ (Gamma) in Equation (4)\n",
        "    self.fixed_length = fixed_length\n",
        "    self.current_state = self.reset()\n",
        "    self.groups = self.get_groups()\n",
        "\n",
        "  def reset(self):\n",
        "    self.init_state = self.embedded_data['state'].sample(1).values[0]\n",
        "    return self.init_state\n",
        "\n",
        "  def step(self, actions):\n",
        "    '''\n",
        "    Compute reward and update state.\n",
        "    Args:\n",
        "      actions: embedded chosen items.\n",
        "    Returns:\n",
        "      cumulated_reward: overall reward.\n",
        "      current_state: updated state.\n",
        "    '''\n",
        "\n",
        "    # '18: Compute overall reward r_t according to Equation (4)'\n",
        "    simulated_rewards, cumulated_reward = self.simulate_rewards(self.current_state.reshape((1, -1)), actions.reshape((1, -1)))\n",
        "\n",
        "    # '11: Set s_t+1 = s_t' <=> self.current_state = self.current_state\n",
        "\n",
        "    for k in range(len(simulated_rewards)): # '12: for k = 1, K do'\n",
        "      if simulated_rewards[k] > 0: # '13: if r_t^k > 0 then'\n",
        "        # '14: Add a_t^k to the end of s_t+1'\n",
        "        self.current_state = np.append(self.current_state, [actions[k]], axis=0)\n",
        "        if self.fixed_length: # '15: Remove the first item of s_t+1'\n",
        "          self.current_state = np.delete(self.current_state, 0, axis=0)\n",
        "\n",
        "    return cumulated_reward, self.current_state\n",
        "\n",
        "  def get_groups(self):\n",
        "    ''' Calculate average state/action value for each group. Equation (3). '''\n",
        "\n",
        "    groups = []\n",
        "    for rewards, group in self.embedded_data.groupby(['reward']):\n",
        "      size = group.shape[0]\n",
        "      states = np.array(list(group['state'].values))\n",
        "      actions = np.array(list(group['action'].values))\n",
        "      groups.append({\n",
        "        'size': size, # N_x in article\n",
        "        'rewards': rewards, # U_x in article (combination of rewards)\n",
        "        'average state': (np.sum(states / np.linalg.norm(states, 2, axis=1)[:, np.newaxis], axis=0) / size).reshape((1, -1)), # s_x^-\n",
        "        'average action': (np.sum(actions / np.linalg.norm(actions, 2, axis=1)[:, np.newaxis], axis=0) / size).reshape((1, -1)) # a_x^-\n",
        "      })\n",
        "    return groups\n",
        "\n",
        "  def simulate_rewards(self, current_state, chosen_actions, reward_type='grouped cosine'):\n",
        "    '''\n",
        "    Calculate simulated rewards.\n",
        "    Args:\n",
        "      current_state: history, list of embedded items.\n",
        "      chosen_actions: embedded chosen items.\n",
        "      reward_type: from ['normal', 'grouped average', 'grouped cosine'].\n",
        "    Returns:\n",
        "      returned_rewards: most probable rewards.\n",
        "      cumulated_reward: probability weighted rewards.\n",
        "    '''\n",
        "\n",
        "    # Equation (1)\n",
        "    def cosine_state_action(s_t, a_t, s_i, a_i):\n",
        "      cosine_state = np.dot(s_t, s_i.T) / (np.linalg.norm(s_t, 2) * np.linalg.norm(s_i, 2))\n",
        "      cosine_action = np.dot(a_t, a_i.T) / (np.linalg.norm(a_t, 2) * np.linalg.norm(a_i, 2))\n",
        "      return (self.alpha * cosine_state + (1 - self.alpha) * cosine_action).reshape((1,))\n",
        "\n",
        "    if reward_type == 'normal':\n",
        "      # Calculate simulated reward in normal way: Equation (2)\n",
        "      probabilities = [cosine_state_action(current_state, chosen_actions, row['state'], row['action'])\n",
        "        for _, row in self.embedded_data.iterrows()]\n",
        "    elif reward_type == 'grouped average':\n",
        "      # Calculate simulated reward by grouped average: Equation (3)\n",
        "      probabilities = np.array([g['size'] for g in self.groups]) *\\\n",
        "        [(self.alpha * (np.dot(current_state, g['average state'].T) / np.linalg.norm(current_state, 2))\\\n",
        "        + (1 - self.alpha) * (np.dot(chosen_actions, g['average action'].T) / np.linalg.norm(chosen_actions, 2)))\n",
        "        for g in self.groups]\n",
        "    elif reward_type == 'grouped cosine':\n",
        "      # Calculate simulated reward by grouped cosine: Equations (1) and (3)\n",
        "      probabilities = [cosine_state_action(current_state, chosen_actions, g['average state'], g['average action'])\n",
        "        for g in self.groups]\n",
        "\n",
        "    # Normalize (sum to 1)\n",
        "    probabilities = np.array(probabilities) / sum(probabilities)\n",
        "\n",
        "    # Get most probable rewards\n",
        "    if reward_type == 'normal':\n",
        "      returned_rewards = self.embedded_data.iloc[np.argmax(probabilities)]['reward']\n",
        "    elif reward_type in ['grouped average', 'grouped cosine']:\n",
        "      returned_rewards = self.groups[np.argmax(probabilities)]['rewards']\n",
        "\n",
        "    # Equation (4)\n",
        "    def overall_reward(rewards, gamma):\n",
        "      return np.sum([gamma**k * reward for k, reward in enumerate(rewards)])\n",
        "\n",
        "    if reward_type in ['normal', 'grouped average']:\n",
        "      # Get cumulated reward: Equation (4)\n",
        "      cumulated_reward = overall_reward(returned_rewards, self.gamma)\n",
        "    elif reward_type == 'grouped cosine':\n",
        "      # Get probability weighted cumulated reward\n",
        "      cumulated_reward = np.sum([p * overall_reward(g['rewards'], self.gamma)\n",
        "        for p, g in zip(probabilities, self.groups)])\n",
        "\n",
        "    return returned_rewards, cumulated_reward"
      ],
      "execution_count": 8,
      "outputs": []
    },
    {
      "cell_type": "markdown",
      "metadata": {
        "id": "3-rEdckqygGY"
      },
      "source": [
        "# Actor"
      ]
    },
    {
      "cell_type": "code",
      "metadata": {
        "id": "-YK3aSNaTouH"
      },
      "source": [
        "class Actor():\n",
        "  ''' Policy function approximator. '''\n",
        "\n",
        "  def __init__(self, sess, state_space_size, action_space_size, batch_size, ra_length, history_length, embedding_size, tau, learning_rate, scope='actor'):\n",
        "    self.sess = sess\n",
        "    self.state_space_size = state_space_size\n",
        "    self.action_space_size = action_space_size\n",
        "    self.batch_size = batch_size\n",
        "    self.ra_length = ra_length\n",
        "    self.history_length = history_length\n",
        "    self.embedding_size = embedding_size\n",
        "    self.tau = tau\n",
        "    self.learning_rate = learning_rate\n",
        "    self.scope = scope\n",
        "\n",
        "    with tf.variable_scope(self.scope):\n",
        "      # Build Actor network\n",
        "      self.action_weights, self.state, self.sequence_length = self._build_net('estimator_actor')\n",
        "      self.network_params = tf.trainable_variables()\n",
        "\n",
        "      # Build target Actor network\n",
        "      self.target_action_weights, self.target_state, self.target_sequence_length = self._build_net('target_actor')\n",
        "      self.target_network_params = tf.trainable_variables()[len(self.network_params):] # TODO: why sublist [len(x):]? Maybe because its equal to network_params + target_network_params\n",
        "\n",
        "      # Initialize target network weights with network weights (θ^π′ ← θ^π)\n",
        "      self.init_target_network_params = [self.target_network_params[i].assign(self.network_params[i])\n",
        "        for i in range(len(self.target_network_params))]\n",
        "\n",
        "      # Update target network weights (θ^π′ ← τθ^π + (1 − τ)θ^π′)\n",
        "      self.update_target_network_params = [self.target_network_params[i].assign(\n",
        "        tf.multiply(self.tau, self.network_params[i]) +\n",
        "        tf.multiply(1 - self.tau, self.target_network_params[i]))\n",
        "        for i in range(len(self.target_network_params))]\n",
        "\n",
        "      # Gradient computation from Critic's action_gradients\n",
        "      self.action_gradients = tf.placeholder(tf.float32, [None, self.action_space_size])\n",
        "      gradients = tf.gradients(tf.reshape(self.action_weights, [self.batch_size, self.action_space_size], name='42222222222'),\n",
        "                               self.network_params,\n",
        "                               self.action_gradients)\n",
        "      params_gradients = list(map(lambda x: tf.div(x, self.batch_size * self.action_space_size), gradients))\n",
        "\n",
        "      # Compute ∇_a.Q(s, a|θ^µ).∇_θ^π.f_θ^π(s)\n",
        "      self.optimizer = tf.train.AdamOptimizer(self.learning_rate).apply_gradients(\n",
        "          zip(params_gradients, self.network_params))\n",
        "\n",
        "  def _build_net(self, scope):\n",
        "    ''' Build the (target) Actor network. '''\n",
        "\n",
        "    def gather_last_output(data, seq_lens):\n",
        "      def cli_value(x, v):\n",
        "        y = tf.constant(v, shape=x.get_shape(), dtype=tf.int64)\n",
        "        x = tf.cast(x, tf.int64)\n",
        "        return tf.where(tf.greater(x, y), x, y)\n",
        "\n",
        "      batch_range = tf.range(tf.cast(tf.shape(data)[0], dtype=tf.int64), dtype=tf.int64)\n",
        "      tmp_end = tf.map_fn(lambda x: cli_value(x, 0), seq_lens - 1, dtype=tf.int64)\n",
        "      indices = tf.stack([batch_range, tmp_end], axis=1)\n",
        "      return tf.gather_nd(data, indices)\n",
        "\n",
        "    with tf.variable_scope(scope):\n",
        "      # Inputs: current state, sequence_length\n",
        "      # Outputs: action weights to compute the score Equation (6)\n",
        "      state = tf.placeholder(tf.float32, [None, self.state_space_size], 'state')\n",
        "      state_ = tf.reshape(state, [-1, self.history_length, self.embedding_size])\n",
        "      sequence_length = tf.placeholder(tf.int32, [None], 'sequence_length')\n",
        "      cell = tf.nn.rnn_cell.GRUCell(self.embedding_size,\n",
        "                                    activation=tf.nn.relu,\n",
        "                                    kernel_initializer=tf.initializers.random_normal(),\n",
        "                                    bias_initializer=tf.zeros_initializer())\n",
        "      outputs, _ = tf.nn.dynamic_rnn(cell, state_, dtype=tf.float32, sequence_length=sequence_length)\n",
        "      last_output = gather_last_output(outputs, sequence_length) # TODO: replace by h\n",
        "      x = tf.keras.layers.Dense(self.ra_length * self.embedding_size)(last_output)\n",
        "      action_weights = tf.reshape(x, [-1, self.ra_length, self.embedding_size])\n",
        "\n",
        "    return action_weights, state, sequence_length\n",
        "\n",
        "  def train(self, state, sequence_length, action_gradients):\n",
        "    '''  Compute ∇_a.Q(s, a|θ^µ).∇_θ^π.f_θ^π(s). '''\n",
        "    self.sess.run(self.optimizer,\n",
        "                  feed_dict={\n",
        "                      self.state: state,\n",
        "                      self.sequence_length: sequence_length,\n",
        "                      self.action_gradients: action_gradients})\n",
        "\n",
        "  def predict(self, state, sequence_length):\n",
        "    return self.sess.run(self.action_weights,\n",
        "                         feed_dict={\n",
        "                             self.state: state,\n",
        "                             self.sequence_length: sequence_length})\n",
        "\n",
        "  def predict_target(self, state, sequence_length):\n",
        "    return self.sess.run(self.target_action_weights,\n",
        "                         feed_dict={\n",
        "                             self.target_state: state,\n",
        "                             self.target_sequence_length: sequence_length})\n",
        "\n",
        "  def init_target_network(self):\n",
        "    self.sess.run(self.init_target_network_params)\n",
        "\n",
        "  def update_target_network(self):\n",
        "    self.sess.run(self.update_target_network_params)\n",
        "\n",
        "  def get_recommendation_list(self, ra_length, noisy_state, embeddings, target=False):\n",
        "    '''\n",
        "    Algorithm 2\n",
        "    Args:\n",
        "      ra_length: length of the recommendation list.\n",
        "      noisy_state: current/remembered environment state with noise.\n",
        "      embeddings: Embeddings object.\n",
        "      target: boolean to use Actor's network or target network.\n",
        "    Returns:\n",
        "      Recommendation List: list of embedded items as future actions.\n",
        "    '''\n",
        "\n",
        "    def get_score(weights, embedding, batch_size):\n",
        "      '''\n",
        "      Equation (6)\n",
        "      Args:\n",
        "        weights: w_t^k shape=(embedding_size,).\n",
        "        embedding: e_i shape=(embedding_size,).\n",
        "      Returns:\n",
        "        score of the item i: score_i=w_t^k.e_i^T shape=(1,).\n",
        "      '''\n",
        "      ret = np.dot(weights, embedding.T)\n",
        "      return ret\n",
        "\n",
        "    batch_size = noisy_state.shape[0]\n",
        "\n",
        "    # '1: Generate w_t = {w_t^1, ..., w_t^K} according to Equation (5)'\n",
        "    method = self.predict_target if target else self.predict\n",
        "    weights = method(noisy_state, [ra_length] * batch_size)\n",
        "\n",
        "    # '3: Score items in I according to Equation (6)'\n",
        "    scores = np.array([[[get_score(weights[i][k], embedding, batch_size)\n",
        "      for embedding in embeddings.get_embedding_vector()]\n",
        "      for k in range(ra_length)]\n",
        "      for i in range(batch_size)])\n",
        "\n",
        "    # '8: return a_t'\n",
        "    return np.array([[embeddings.get_embedding(np.argmax(scores[i][k]))\n",
        "      for k in range(ra_length)]\n",
        "      for i in range(batch_size)])"
      ],
      "execution_count": 9,
      "outputs": []
    },
    {
      "cell_type": "markdown",
      "metadata": {
        "id": "lVAPvO0Nyyy3"
      },
      "source": [
        "# Critic"
      ]
    },
    {
      "cell_type": "code",
      "metadata": {
        "id": "jj3yEhnqy0Iy"
      },
      "source": [
        "class Critic():\n",
        "  ''' Value function approximator. '''\n",
        "\n",
        "  def __init__(self, sess, state_space_size, action_space_size, history_length, embedding_size, tau, learning_rate, scope='critic'):\n",
        "    self.sess = sess\n",
        "    self.state_space_size = state_space_size\n",
        "    self.action_space_size = action_space_size\n",
        "    self.history_length = history_length\n",
        "    self.embedding_size = embedding_size\n",
        "    self.tau = tau\n",
        "    self.learning_rate = learning_rate\n",
        "    self.scope = scope\n",
        "\n",
        "    with tf.variable_scope(self.scope):\n",
        "      # Build Critic network\n",
        "      self.critic_Q_value, self.state, self.action, self.sequence_length = self._build_net('estimator_critic')\n",
        "      self.network_params = tf.get_collection(tf.GraphKeys.TRAINABLE_VARIABLES, scope='estimator_critic')\n",
        "\n",
        "      # Build target Critic network\n",
        "      self.target_Q_value, self.target_state, self.target_action, self.target_sequence_length = self._build_net('target_critic')\n",
        "      self.target_network_params = tf.get_collection(tf.GraphKeys.TRAINABLE_VARIABLES, scope='target_critic')\n",
        "\n",
        "      # Initialize target network weights with network weights (θ^µ′ ← θ^µ)\n",
        "      self.init_target_network_params = [self.target_network_params[i].assign(self.network_params[i])\n",
        "        for i in range(len(self.target_network_params))]\n",
        "\n",
        "      # Update target network weights (θ^µ′ ← τθ^µ + (1 − τ)θ^µ′)\n",
        "      self.update_target_network_params = [self.target_network_params[i].assign(\n",
        "        tf.multiply(self.tau, self.network_params[i]) +\n",
        "        tf.multiply(1 - self.tau, self.target_network_params[i]))\n",
        "        for i in range(len(self.target_network_params))]\n",
        "\n",
        "      # Minimize MSE between Critic's and target Critic's outputed Q-values\n",
        "      self.expected_reward = tf.placeholder(tf.float32, [None, 1])\n",
        "      self.loss = tf.reduce_mean(tf.squared_difference(self.expected_reward, self.critic_Q_value))\n",
        "      self.optimizer = tf.train.AdamOptimizer(self.learning_rate).minimize(self.loss)\n",
        "\n",
        "      # Compute ∇_a.Q(s, a|θ^µ)\n",
        "      self.action_gradients = tf.gradients(self.critic_Q_value, self.action)\n",
        "\n",
        "  def _build_net(self, scope):\n",
        "    ''' Build the (target) Critic network. '''\n",
        "\n",
        "    def gather_last_output(data, seq_lens):\n",
        "      def cli_value(x, v):\n",
        "        y = tf.constant(v, shape=x.get_shape(), dtype=tf.int64)\n",
        "        return tf.where(tf.greater(x, y), x, y)\n",
        "\n",
        "      this_range = tf.range(tf.cast(tf.shape(seq_lens)[0], dtype=tf.int64), dtype=tf.int64)\n",
        "      tmp_end = tf.map_fn(lambda x: cli_value(x, 0), seq_lens - 1, dtype=tf.int64)\n",
        "      indices = tf.stack([this_range, tmp_end], axis=1)\n",
        "      return tf.gather_nd(data, indices)\n",
        "\n",
        "    with tf.variable_scope(scope):\n",
        "      # Inputs: current state, current action\n",
        "      # Outputs: predicted Q-value\n",
        "      state = tf.placeholder(tf.float32, [None, self.state_space_size], 'state')\n",
        "      state_ = tf.reshape(state, [-1, self.history_length, self.embedding_size])\n",
        "      action = tf.placeholder(tf.float32, [None, self.action_space_size], 'action')\n",
        "      sequence_length = tf.placeholder(tf.int64, [None], name='critic_sequence_length')\n",
        "      cell = tf.nn.rnn_cell.GRUCell(self.history_length,\n",
        "                                    activation=tf.nn.relu,\n",
        "                                    kernel_initializer=tf.initializers.random_normal(),\n",
        "                                    bias_initializer=tf.zeros_initializer())\n",
        "      predicted_state, _ = tf.nn.dynamic_rnn(cell, state_, dtype=tf.float32, sequence_length=sequence_length)\n",
        "      predicted_state = gather_last_output(predicted_state, sequence_length)\n",
        "\n",
        "      inputs = tf.concat([predicted_state, action], axis=-1)\n",
        "      layer1 = tf.layers.Dense(32, activation=tf.nn.relu)(inputs)\n",
        "      layer2 = tf.layers.Dense(16, activation=tf.nn.relu)(layer1)\n",
        "      critic_Q_value = tf.layers.Dense(1)(layer2)\n",
        "      return critic_Q_value, state, action, sequence_length\n",
        "\n",
        "  def train(self, state, action, sequence_length, expected_reward):\n",
        "    ''' Minimize MSE between expected reward and target Critic's Q-value. '''\n",
        "    return self.sess.run([self.critic_Q_value, self.loss, self.optimizer],\n",
        "                         feed_dict={\n",
        "                             self.state: state,\n",
        "                             self.action: action,\n",
        "                             self.sequence_length: sequence_length,\n",
        "                             self.expected_reward: expected_reward})\n",
        "\n",
        "  def predict(self, state, action, sequence_length):\n",
        "    ''' Returns Critic's predicted Q-value. '''\n",
        "    return self.sess.run(self.critic_Q_value,\n",
        "                         feed_dict={\n",
        "                             self.state: state,\n",
        "                             self.action: action,\n",
        "                             self.sequence_length: sequence_length})\n",
        "\n",
        "  def predict_target(self, state, action, sequence_length):\n",
        "    ''' Returns target Critic's predicted Q-value. '''\n",
        "    return self.sess.run(self.target_Q_value,\n",
        "                         feed_dict={\n",
        "                             self.target_state: state,\n",
        "                             self.target_action: action,\n",
        "                             self.target_sequence_length: sequence_length})\n",
        "\n",
        "  def get_action_gradients(self, state, action, sequence_length):\n",
        "    ''' Returns ∇_a.Q(s, a|θ^µ). '''\n",
        "    return np.array(self.sess.run(self.action_gradients,\n",
        "                         feed_dict={\n",
        "                             self.state: state,\n",
        "                             self.action: action,\n",
        "                             self.sequence_length: sequence_length})[0])\n",
        "\n",
        "  def init_target_network(self):\n",
        "    self.sess.run(self.init_target_network_params)\n",
        "\n",
        "  def update_target_network(self):\n",
        "    self.sess.run(self.update_target_network_params)"
      ],
      "execution_count": 10,
      "outputs": []
    },
    {
      "cell_type": "markdown",
      "metadata": {
        "id": "KNP3jdofyh7M"
      },
      "source": [
        "# Replay"
      ]
    },
    {
      "cell_type": "code",
      "metadata": {
        "id": "GvIqtE2YzoUa"
      },
      "source": [
        "class ReplayMemory():\n",
        "  ''' Replay memory D in article. '''\n",
        "\n",
        "  def __init__(self, buffer_size):\n",
        "    self.buffer_size = buffer_size\n",
        "    # self.buffer = [[row['state'], row['action'], row['reward'], row['n_state']] for _, row in data.iterrows()][-self.buffer_size:] TODO: empty or not?\n",
        "    self.buffer = []\n",
        "\n",
        "  def add(self, state, action, reward, n_state):\n",
        "    self.buffer.append([state, action, reward, n_state])\n",
        "    if len(self.buffer) > self.buffer_size:\n",
        "      self.buffer.pop(0)\n",
        "\n",
        "  def size(self):\n",
        "    return len(self.buffer)\n",
        "\n",
        "  def sample_batch(self, batch_size):\n",
        "    return random.sample(self.buffer, batch_size)"
      ],
      "execution_count": 11,
      "outputs": []
    },
    {
      "cell_type": "code",
      "metadata": {
        "id": "7x-ekweNfStD"
      },
      "source": [
        "def experience_replay(replay_memory, batch_size, actor, critic, embeddings, ra_length, state_space_size, action_space_size, discount_factor):\n",
        "  '''\n",
        "  Experience replay.\n",
        "  Args:\n",
        "    replay_memory: replay memory D in article.\n",
        "    batch_size: sample size.\n",
        "    actor: Actor network.\n",
        "    critic: Critic network.\n",
        "    embeddings: Embeddings object.\n",
        "    state_space_size: dimension of states.\n",
        "    action_space_size: dimensions of actions.\n",
        "  Returns:\n",
        "    Best Q-value, loss of Critic network for printing/recording purpose.\n",
        "  '''\n",
        "\n",
        "  # '22: Sample minibatch of N transitions (s, a, r, s′) from D'\n",
        "  samples = replay_memory.sample_batch(batch_size)\n",
        "  states = np.array([s[0] for s in samples])\n",
        "  actions = np.array([s[1] for s in samples])\n",
        "  rewards = np.array([s[2] for s in samples])\n",
        "  n_states = np.array([s[3] for s in samples]).reshape(-1, state_space_size)\n",
        "\n",
        "  # '23: Generate a′ by target Actor network according to Algorithm 2'\n",
        "  n_actions = actor.get_recommendation_list(ra_length, states, embeddings, target=True).reshape(-1, action_space_size)\n",
        "\n",
        "  # Calculate predicted Q′(s′, a′|θ^µ′) value\n",
        "  target_Q_value = critic.predict_target(n_states, n_actions, [ra_length] * batch_size)\n",
        "\n",
        "  # '24: Set y = r + γQ′(s′, a′|θ^µ′)'\n",
        "  expected_rewards = rewards + discount_factor * target_Q_value\n",
        "\n",
        "  # '25: Update Critic by minimizing (y − Q(s, a|θ^µ))²'\n",
        "  critic_Q_value, critic_loss, _ = critic.train(states, actions, [ra_length] * batch_size, expected_rewards)\n",
        "\n",
        "  # '26: Update the Actor using the sampled policy gradient'\n",
        "  action_gradients = critic.get_action_gradients(states, n_actions, [ra_length] * batch_size)\n",
        "  actor.train(states, [ra_length] * batch_size, action_gradients)\n",
        "\n",
        "  # '27: Update the Critic target networks'\n",
        "  critic.update_target_network()\n",
        "\n",
        "  # '28: Update the Actor target network'\n",
        "  actor.update_target_network()\n",
        "\n",
        "  return np.amax(critic_Q_value), critic_loss"
      ],
      "execution_count": 12,
      "outputs": []
    },
    {
      "cell_type": "markdown",
      "metadata": {
        "id": "QzYw4cAhzYDF"
      },
      "source": [
        "# Training"
      ]
    },
    {
      "cell_type": "code",
      "metadata": {
        "id": "YRDXsrsMy69k"
      },
      "source": [
        "class OrnsteinUhlenbeckNoise:\n",
        "  ''' Noise for Actor predictions. '''\n",
        "  def __init__(self, action_space_size, mu=0, theta=0.5, sigma=0.2):\n",
        "    self.action_space_size = action_space_size\n",
        "    self.mu = mu\n",
        "    self.theta = theta\n",
        "    self.sigma = sigma\n",
        "    self.state = np.ones(self.action_space_size) * self.mu\n",
        "\n",
        "  def get(self):\n",
        "    self.state += self.theta * (self.mu - self.state) + self.sigma * np.random.rand(self.action_space_size)\n",
        "    return self.state\n",
        "\n",
        "def train(sess, environment, actor, critic, embeddings, history_length, ra_length, buffer_size, batch_size, discount_factor, nb_episodes, filename_summary):\n",
        "  ''' Algorithm 3 in article. '''\n",
        "\n",
        "  # Set up summary operators\n",
        "  def build_summaries():\n",
        "    episode_reward = tf.Variable(0.)\n",
        "    tf.summary.scalar('reward', episode_reward)\n",
        "    episode_max_Q = tf.Variable(0.)\n",
        "    tf.summary.scalar('max_Q_value', episode_max_Q)\n",
        "    critic_loss = tf.Variable(0.)\n",
        "    tf.summary.scalar('critic_loss', critic_loss)\n",
        "\n",
        "    summary_vars = [episode_reward, episode_max_Q, critic_loss]\n",
        "    summary_ops = tf.summary.merge_all()\n",
        "    return summary_ops, summary_vars\n",
        "\n",
        "  summary_ops, summary_vars = build_summaries()\n",
        "  sess.run(tf.global_variables_initializer())\n",
        "  writer = tf.summary.FileWriter(filename_summary, sess.graph)\n",
        "\n",
        "  # '2: Initialize target network f′ and Q′'\n",
        "  actor.init_target_network()\n",
        "  critic.init_target_network()\n",
        "\n",
        "  # '3: Initialize the capacity of replay memory D'\n",
        "  replay_memory = ReplayMemory(buffer_size) # Memory D in article\n",
        "  replay = False\n",
        "\n",
        "\n",
        "  start_time = time.time()\n",
        "  for i_session in range(nb_episodes): # '4: for session = 1, M do'\n",
        "    session_reward = 0\n",
        "    session_Q_value = 0\n",
        "    session_critic_loss = 0\n",
        "\n",
        "    # '5: Reset the item space I' is useless because unchanged.\n",
        "\n",
        "    states = environment.reset() # '6: Initialize state s_0 from previous sessions'\n",
        "\n",
        "    if (i_session + 1) % 10 == 0: # Update average parameters every 10 episodes\n",
        "      environment.groups = environment.get_groups()\n",
        "\n",
        "    exploration_noise = OrnsteinUhlenbeckNoise(history_length * embeddings.size())\n",
        "\n",
        "    for t in range(nb_rounds): # '7: for t = 1, T do'\n",
        "      # '8: Stage 1: Transition Generating Stage'\n",
        "\n",
        "      # '9: Select an action a_t = {a_t^1, ..., a_t^K} according to Algorithm 2'\n",
        "      actions = actor.get_recommendation_list(\n",
        "          ra_length,\n",
        "          states.reshape(1, -1), # TODO + exploration_noise.get().reshape(1, -1),\n",
        "          embeddings).reshape(ra_length, embeddings.size())\n",
        "\n",
        "      # '10: Execute action a_t and observe the reward list {r_t^1, ..., r_t^K} for each item in a_t'\n",
        "      rewards, next_states = environment.step(actions)\n",
        "\n",
        "      # '19: Store transition (s_t, a_t, r_t, s_t+1) in D'\n",
        "      replay_memory.add(states.reshape(history_length * embeddings.size()),\n",
        "                        actions.reshape(ra_length * embeddings.size()),\n",
        "                        [rewards],\n",
        "                        next_states.reshape(history_length * embeddings.size()))\n",
        "\n",
        "      states = next_states # '20: Set s_t = s_t+1'\n",
        "\n",
        "      session_reward += rewards\n",
        "\n",
        "      # '21: Stage 2: Parameter Updating Stage'\n",
        "      if replay_memory.size() >= batch_size: # Experience replay\n",
        "        replay = True\n",
        "        replay_Q_value, critic_loss = experience_replay(replay_memory, batch_size,\n",
        "          actor, critic, embeddings, ra_length, history_length * embeddings.size(),\n",
        "          ra_length * embeddings.size(), discount_factor)\n",
        "        session_Q_value += replay_Q_value\n",
        "        session_critic_loss += critic_loss\n",
        "\n",
        "      summary_str = sess.run(summary_ops,\n",
        "                             feed_dict={summary_vars[0]: session_reward,\n",
        "                                        summary_vars[1]: session_Q_value,\n",
        "                                        summary_vars[2]: session_critic_loss})\n",
        "\n",
        "      writer.add_summary(summary_str, i_session)\n",
        "\n",
        "      '''\n",
        "      print(state_to_items(embeddings.embed(data['state'][0]), actor, ra_length, embeddings),\n",
        "            state_to_items(embeddings.embed(data['state'][0]), actor, ra_length, embeddings, True))\n",
        "      '''\n",
        "\n",
        "    str_loss = str('Loss=%0.4f' % session_critic_loss)\n",
        "    print(('Episode %d/%d Reward=%d Time=%ds ' + (str_loss if replay else 'No replay')) % (i_session + 1, nb_episodes, session_reward, time.time() - start_time))\n",
        "    start_time = time.time()\n",
        "\n",
        "  writer.close()\n",
        "  tf.train.Saver().save(sess, 'models.h5', write_meta_graph=False)"
      ],
      "execution_count": 13,
      "outputs": []
    },
    {
      "cell_type": "markdown",
      "metadata": {
        "id": "Cx_5zk2hll5e"
      },
      "source": [
        "## Data"
      ]
    },
    {
      "cell_type": "code",
      "metadata": {
        "id": "w8vv6bRi5_ro"
      },
      "source": [
        "# Hyperparameters\n",
        "history_length = 12 # N in article\n",
        "ra_length = 4 # K in article\n",
        "discount_factor = 0.99 # Gamma in Bellman equation\n",
        "actor_lr = 0.0001\n",
        "critic_lr = 0.001\n",
        "tau = 0.001 # τ in Algorithm 3\n",
        "batch_size = 64\n",
        "nb_episodes = 100\n",
        "nb_rounds = 50\n",
        "filename_summary = 'summary.txt'\n",
        "alpha = 0.5 # α (alpha) in Equation (1)\n",
        "gamma = 0.9 # Γ (Gamma) in Equation (4)\n",
        "buffer_size = 1000000 # Size of replay memory D in article\n",
        "fixed_length = True # Fixed memory length\n",
        "\n",
        "dg = DataGenerator('ml-100k/u.data', 'ml-100k/u.item')\n",
        "dg.gen_train_test(0.8, seed=42)\n",
        "\n",
        "dg.write_csv('train.csv', dg.train, nb_states=[history_length], nb_actions=[ra_length])\n",
        "dg.write_csv('test.csv', dg.test, nb_states=[history_length], nb_actions=[ra_length])\n",
        "\n",
        "data = read_file('train.csv')\n",
        "data = pd.read_csv('train.csv')"
      ],
      "execution_count": 14,
      "outputs": []
    },
    {
      "cell_type": "markdown",
      "metadata": {
        "id": "m-aa79rvlpWH"
      },
      "source": [
        "## Embeddings"
      ]
    },
    {
      "cell_type": "code",
      "source": [
        "!pip install keras==3.8.0"
      ],
      "metadata": {
        "id": "ZMXfRkHeBi8N",
        "outputId": "5cca1733-fd0f-494e-f09a-e2b653bc7342",
        "colab": {
          "base_uri": "https://localhost:8080/"
        }
      },
      "execution_count": 37,
      "outputs": [
        {
          "output_type": "stream",
          "name": "stdout",
          "text": [
            "Requirement already satisfied: keras==3.8.0 in /usr/local/lib/python3.11/dist-packages (3.8.0)\n",
            "Requirement already satisfied: absl-py in /usr/local/lib/python3.11/dist-packages (from keras==3.8.0) (1.4.0)\n",
            "Requirement already satisfied: numpy in /usr/local/lib/python3.11/dist-packages (from keras==3.8.0) (1.26.4)\n",
            "Requirement already satisfied: rich in /usr/local/lib/python3.11/dist-packages (from keras==3.8.0) (13.9.4)\n",
            "Requirement already satisfied: namex in /usr/local/lib/python3.11/dist-packages (from keras==3.8.0) (0.0.8)\n",
            "Requirement already satisfied: h5py in /usr/local/lib/python3.11/dist-packages (from keras==3.8.0) (3.12.1)\n",
            "Requirement already satisfied: optree in /usr/local/lib/python3.11/dist-packages (from keras==3.8.0) (0.14.0)\n",
            "Requirement already satisfied: ml-dtypes in /usr/local/lib/python3.11/dist-packages (from keras==3.8.0) (0.4.1)\n",
            "Requirement already satisfied: packaging in /usr/local/lib/python3.11/dist-packages (from keras==3.8.0) (24.2)\n",
            "Requirement already satisfied: typing-extensions>=4.5.0 in /usr/local/lib/python3.11/dist-packages (from optree->keras==3.8.0) (4.12.2)\n",
            "Requirement already satisfied: markdown-it-py>=2.2.0 in /usr/local/lib/python3.11/dist-packages (from rich->keras==3.8.0) (3.0.0)\n",
            "Requirement already satisfied: pygments<3.0.0,>=2.13.0 in /usr/local/lib/python3.11/dist-packages (from rich->keras==3.8.0) (2.18.0)\n",
            "Requirement already satisfied: mdurl~=0.1 in /usr/local/lib/python3.11/dist-packages (from markdown-it-py>=2.2.0->rich->keras==3.8.0) (0.1.2)\n"
          ]
        }
      ]
    },
    {
      "cell_type": "code",
      "source": [
        "pip install keras==3.5.0"
      ],
      "metadata": {
        "id": "fbku44wBBpAN",
        "outputId": "c5a8b9a7-fbd9-4a38-b4b0-1abed3239cf9",
        "colab": {
          "base_uri": "https://localhost:8080/"
        }
      },
      "execution_count": 3,
      "outputs": [
        {
          "output_type": "stream",
          "name": "stdout",
          "text": [
            "Collecting keras==3.5.0\n",
            "  Downloading keras-3.5.0-py3-none-any.whl.metadata (5.8 kB)\n",
            "Requirement already satisfied: absl-py in /usr/local/lib/python3.11/dist-packages (from keras==3.5.0) (1.4.0)\n",
            "Requirement already satisfied: numpy in /usr/local/lib/python3.11/dist-packages (from keras==3.5.0) (1.26.4)\n",
            "Requirement already satisfied: rich in /usr/local/lib/python3.11/dist-packages (from keras==3.5.0) (13.9.4)\n",
            "Requirement already satisfied: namex in /usr/local/lib/python3.11/dist-packages (from keras==3.5.0) (0.0.8)\n",
            "Requirement already satisfied: h5py in /usr/local/lib/python3.11/dist-packages (from keras==3.5.0) (3.12.1)\n",
            "Requirement already satisfied: optree in /usr/local/lib/python3.11/dist-packages (from keras==3.5.0) (0.14.0)\n",
            "Requirement already satisfied: ml-dtypes in /usr/local/lib/python3.11/dist-packages (from keras==3.5.0) (0.4.1)\n",
            "Requirement already satisfied: packaging in /usr/local/lib/python3.11/dist-packages (from keras==3.5.0) (24.2)\n",
            "Requirement already satisfied: typing-extensions>=4.5.0 in /usr/local/lib/python3.11/dist-packages (from optree->keras==3.5.0) (4.12.2)\n",
            "Requirement already satisfied: markdown-it-py>=2.2.0 in /usr/local/lib/python3.11/dist-packages (from rich->keras==3.5.0) (3.0.0)\n",
            "Requirement already satisfied: pygments<3.0.0,>=2.13.0 in /usr/local/lib/python3.11/dist-packages (from rich->keras==3.5.0) (2.18.0)\n",
            "Requirement already satisfied: mdurl~=0.1 in /usr/local/lib/python3.11/dist-packages (from markdown-it-py>=2.2.0->rich->keras==3.5.0) (0.1.2)\n",
            "Downloading keras-3.5.0-py3-none-any.whl (1.1 MB)\n",
            "\u001b[?25l   \u001b[90m━━━━━━━━━━━━━━━━━━━━━━━━━━━━━━━━━━━━━━━━\u001b[0m \u001b[32m0.0/1.1 MB\u001b[0m \u001b[31m?\u001b[0m eta \u001b[36m-:--:--\u001b[0m\r\u001b[2K   \u001b[91m━━\u001b[0m\u001b[91m╸\u001b[0m\u001b[90m━━━━━━━━━━━━━━━━━━━━━━━━━━━━━━━━━━━━━\u001b[0m \u001b[32m0.1/1.1 MB\u001b[0m \u001b[31m2.9 MB/s\u001b[0m eta \u001b[36m0:00:01\u001b[0m\r\u001b[2K   \u001b[91m━━━━━━━━━━━━━━━━━━━━━━\u001b[0m\u001b[91m╸\u001b[0m\u001b[90m━━━━━━━━━━━━━━━━━\u001b[0m \u001b[32m0.6/1.1 MB\u001b[0m \u001b[31m9.6 MB/s\u001b[0m eta \u001b[36m0:00:01\u001b[0m\r\u001b[2K   \u001b[90m━━━━━━━━━━━━━━━━━━━━━━━━━━━━━━━━━━━━━━━━\u001b[0m \u001b[32m1.1/1.1 MB\u001b[0m \u001b[31m11.8 MB/s\u001b[0m eta \u001b[36m0:00:00\u001b[0m\n",
            "\u001b[?25hInstalling collected packages: keras\n",
            "  Attempting uninstall: keras\n",
            "    Found existing installation: Keras 2.3.0\n",
            "    Uninstalling Keras-2.3.0:\n",
            "      Successfully uninstalled Keras-2.3.0\n",
            "Successfully installed keras-3.5.0\n"
          ]
        }
      ]
    },
    {
      "cell_type": "code",
      "source": [
        "keras.__version__\n",
        "keras.backend."
      ],
      "metadata": {
        "id": "Hp4xpeFE-oKD",
        "outputId": "cd7d3194-0dff-4921-ee02-c0dd5b9d2b58",
        "colab": {
          "base_uri": "https://localhost:8080/",
          "height": 35
        }
      },
      "execution_count": 5,
      "outputs": [
        {
          "output_type": "execute_result",
          "data": {
            "text/plain": [
              "'3.5.0'"
            ],
            "application/vnd.google.colaboratory.intrinsic+json": {
              "type": "string"
            }
          },
          "metadata": {},
          "execution_count": 5
        }
      ]
    },
    {
      "cell_type": "code",
      "metadata": {
        "id": "ezsuxZbllgDg",
        "colab": {
          "base_uri": "https://localhost:8080/",
          "height": 468
        },
        "outputId": "705cbad6-8885-42c6-f3bb-893fc780feee"
      },
      "source": [
        "if True: # Generate embeddings?\n",
        "  eg = EmbeddingsGenerator(dg.user_train, pd.read_csv('ml-100k/u.data', sep='\\t', names=['userId', 'itemId', 'rating', 'timestamp']))\n",
        "  # eg.train(nb_epochs=300)\n",
        "  eg.train(nb_epochs=1)\n",
        "  train_loss, train_accuracy = eg.test(dg.user_train)\n",
        "  print('Train set: Loss=%.4f ; Accuracy=%.1f%%' % (train_loss, train_accuracy * 100))\n",
        "  test_loss, test_accuracy = eg.test(dg.user_test)\n",
        "  print('Test set: Loss=%.4f ; Accuracy=%.1f%%' % (test_loss, test_accuracy * 100))\n",
        "  eg.save_embeddings('embeddings.csv')"
      ],
      "execution_count": 33,
      "outputs": [
        {
          "output_type": "stream",
          "name": "stderr",
          "text": [
            "/usr/local/lib/python3.11/dist-packages/keras/src/layers/core/dense.py:87: UserWarning: Do not pass an `input_shape`/`input_dim` argument to a layer. When using Sequential models, prefer using an `Input(shape)` object as the first layer in the model instead.\n",
            "  super().__init__(activity_regularizer=activity_regularizer, **kwargs)\n"
          ]
        },
        {
          "output_type": "stream",
          "name": "stdout",
          "text": [
            "1/1\n",
            "\u001b[1m157/157\u001b[0m \u001b[32m━━━━━━━━━━━━━━━━━━━━\u001b[0m\u001b[37m\u001b[0m \u001b[1m8s\u001b[0m 41ms/step - accuracy: 0.0092 - loss: 7.1677 - val_accuracy: 0.0144 - val_loss: 6.5531\n",
            "\u001b[1m3125/3125\u001b[0m \u001b[32m━━━━━━━━━━━━━━━━━━━━\u001b[0m\u001b[37m\u001b[0m \u001b[1m17s\u001b[0m 5ms/step - accuracy: 0.0138 - loss: 6.5400\n",
            "Train set: Loss=6.5468 ; Accuracy=1.3%\n",
            "\u001b[1m3125/3125\u001b[0m \u001b[32m━━━━━━━━━━━━━━━━━━━━\u001b[0m\u001b[37m\u001b[0m \u001b[1m17s\u001b[0m 5ms/step - accuracy: 0.0114 - loss: 6.5473\n",
            "Test set: Loss=6.5498 ; Accuracy=1.2%\n"
          ]
        },
        {
          "output_type": "error",
          "ename": "AttributeError",
          "evalue": "module 'tensorflow.keras.backend' has no attribute 'function'",
          "traceback": [
            "\u001b[0;31m---------------------------------------------------------------------------\u001b[0m",
            "\u001b[0;31mAttributeError\u001b[0m                            Traceback (most recent call last)",
            "\u001b[0;32m<ipython-input-33-6e252a4b05f9>\u001b[0m in \u001b[0;36m<cell line: 0>\u001b[0;34m()\u001b[0m\n\u001b[1;32m      7\u001b[0m   \u001b[0mtest_loss\u001b[0m\u001b[0;34m,\u001b[0m \u001b[0mtest_accuracy\u001b[0m \u001b[0;34m=\u001b[0m \u001b[0meg\u001b[0m\u001b[0;34m.\u001b[0m\u001b[0mtest\u001b[0m\u001b[0;34m(\u001b[0m\u001b[0mdg\u001b[0m\u001b[0;34m.\u001b[0m\u001b[0muser_test\u001b[0m\u001b[0;34m)\u001b[0m\u001b[0;34m\u001b[0m\u001b[0;34m\u001b[0m\u001b[0m\n\u001b[1;32m      8\u001b[0m   \u001b[0mprint\u001b[0m\u001b[0;34m(\u001b[0m\u001b[0;34m'Test set: Loss=%.4f ; Accuracy=%.1f%%'\u001b[0m \u001b[0;34m%\u001b[0m \u001b[0;34m(\u001b[0m\u001b[0mtest_loss\u001b[0m\u001b[0;34m,\u001b[0m \u001b[0mtest_accuracy\u001b[0m \u001b[0;34m*\u001b[0m \u001b[0;36m100\u001b[0m\u001b[0;34m)\u001b[0m\u001b[0;34m)\u001b[0m\u001b[0;34m\u001b[0m\u001b[0;34m\u001b[0m\u001b[0m\n\u001b[0;32m----> 9\u001b[0;31m   \u001b[0meg\u001b[0m\u001b[0;34m.\u001b[0m\u001b[0msave_embeddings\u001b[0m\u001b[0;34m(\u001b[0m\u001b[0;34m'embeddings.csv'\u001b[0m\u001b[0;34m)\u001b[0m\u001b[0;34m\u001b[0m\u001b[0;34m\u001b[0m\u001b[0m\n\u001b[0m",
            "\u001b[0;32m<ipython-input-32-3434a7b16968>\u001b[0m in \u001b[0;36msave_embeddings\u001b[0;34m(self, file_name)\u001b[0m\n\u001b[1;32m     79\u001b[0m     \u001b[0;31m#inp = self.m.input                                           # input placeholder 获取模型的输入张量\u001b[0m\u001b[0;34m\u001b[0m\u001b[0;34m\u001b[0m\u001b[0m\n\u001b[1;32m     80\u001b[0m     \u001b[0moutputs\u001b[0m \u001b[0;34m=\u001b[0m \u001b[0;34m[\u001b[0m\u001b[0mlayer\u001b[0m\u001b[0;34m.\u001b[0m\u001b[0moutput\u001b[0m \u001b[0;32mfor\u001b[0m \u001b[0mlayer\u001b[0m \u001b[0;32min\u001b[0m \u001b[0mself\u001b[0m\u001b[0;34m.\u001b[0m\u001b[0mm\u001b[0m\u001b[0;34m.\u001b[0m\u001b[0mlayers\u001b[0m\u001b[0;34m]\u001b[0m          \u001b[0;31m# all layer outputs 使用列表推导式获取模型中每一层的输出张量\u001b[0m\u001b[0;34m\u001b[0m\u001b[0;34m\u001b[0m\u001b[0m\n\u001b[0;32m---> 81\u001b[0;31m     \u001b[0mfunctor\u001b[0m \u001b[0;34m=\u001b[0m \u001b[0mK\u001b[0m\u001b[0;34m.\u001b[0m\u001b[0mfunction\u001b[0m\u001b[0;34m(\u001b[0m\u001b[0;34m[\u001b[0m\u001b[0minp\u001b[0m\u001b[0;34m,\u001b[0m \u001b[0mK\u001b[0m\u001b[0;34m.\u001b[0m\u001b[0mlearning_phase\u001b[0m\u001b[0;34m(\u001b[0m\u001b[0;34m)\u001b[0m\u001b[0;34m]\u001b[0m\u001b[0;34m,\u001b[0m \u001b[0moutputs\u001b[0m \u001b[0;34m)\u001b[0m   \u001b[0;31m# evaluation function 返回模型各层的输出\u001b[0m\u001b[0;34m\u001b[0m\u001b[0;34m\u001b[0m\u001b[0m\n\u001b[0m\u001b[1;32m     82\u001b[0m \u001b[0;34m\u001b[0m\u001b[0m\n\u001b[1;32m     83\u001b[0m     \u001b[0;31m#append embeddings to vectors\u001b[0m\u001b[0;34m\u001b[0m\u001b[0;34m\u001b[0m\u001b[0m\n",
            "\u001b[0;31mAttributeError\u001b[0m: module 'tensorflow.keras.backend' has no attribute 'function'"
          ]
        }
      ]
    },
    {
      "cell_type": "code",
      "metadata": {
        "id": "7UI61hVlyQLS"
      },
      "source": [
        "files.upload()"
      ],
      "execution_count": null,
      "outputs": []
    },
    {
      "cell_type": "code",
      "metadata": {
        "id": "wurA3IXNliMy"
      },
      "source": [
        "embeddings = Embeddings(read_embeddings('embeddings.csv'))\n",
        "\n",
        "state_space_size = embeddings.size() * history_length\n",
        "action_space_size = embeddings.size() * ra_length"
      ],
      "execution_count": null,
      "outputs": []
    },
    {
      "cell_type": "code",
      "metadata": {
        "id": "RP4vzcHwOmbP"
      },
      "source": [
        "environment = Environment(data, embeddings, alpha, gamma, fixed_length)\n",
        "\n",
        "tf.reset_default_graph() # For multiple consecutive executions\n",
        "\n",
        "sess = tf.Session()\n",
        "# '1: Initialize actor network f_θ^π and critic network Q(s, a|θ^µ) with random weights'\n",
        "actor = Actor(sess, state_space_size, action_space_size, batch_size, ra_length, history_length, embeddings.size(), tau, actor_lr)\n",
        "critic = Critic(sess, state_space_size, action_space_size, history_length, embeddings.size(), tau, critic_lr)\n",
        "\n",
        "train(sess, environment, actor, critic, embeddings, history_length, ra_length, buffer_size, batch_size, discount_factor, nb_episodes, filename_summary)"
      ],
      "execution_count": null,
      "outputs": []
    },
    {
      "cell_type": "markdown",
      "metadata": {
        "id": "ZOnK_UxHzaPa"
      },
      "source": [
        "# Testing"
      ]
    },
    {
      "cell_type": "code",
      "metadata": {
        "id": "ZsJ0klBBSSXn"
      },
      "source": [
        "dict_embeddings = {}\n",
        "for i, item in enumerate(embeddings.get_embedding_vector()):\n",
        "  str_item = str(item)\n",
        "  assert(str_item not in dict_embeddings)\n",
        "  dict_embeddings[str_item] = i"
      ],
      "execution_count": null,
      "outputs": []
    },
    {
      "cell_type": "code",
      "metadata": {
        "id": "e-LsmlHnyouJ"
      },
      "source": [
        "def state_to_items(state, actor, ra_length, embeddings, dict_embeddings, target=False):\n",
        "  return [dict_embeddings[str(action)]\n",
        "          for action in actor.get_recommendation_list(ra_length, np.array(state).reshape(1, -1), embeddings, target).reshape(ra_length, embeddings.size())]"
      ],
      "execution_count": null,
      "outputs": []
    },
    {
      "cell_type": "code",
      "metadata": {
        "id": "UnCn8bf58uAP"
      },
      "source": [
        "def test_actor(actor, test_df, embeddings, dict_embeddings, ra_length, history_length, target=False, nb_rounds=1):\n",
        "  ratings = []\n",
        "  unknown = 0\n",
        "  random_seen = []\n",
        "  for _ in range(nb_rounds):\n",
        "    for i in range(len(test_df)):\n",
        "      history_sample = list(test_df[i].sample(history_length)['itemId'])\n",
        "      recommendation = state_to_items(embeddings.embed(history_sample), actor, ra_length, embeddings, dict_embeddings, target)\n",
        "      for item in recommendation:\n",
        "        l = list(test_df[i].loc[test_df[i]['itemId'] == item]['rating'])\n",
        "        assert(len(l) < 2)\n",
        "        if len(l) == 0:\n",
        "          unknown += 1\n",
        "        else:\n",
        "          ratings.append(l[0])\n",
        "      for item in history_sample:\n",
        "        random_seen.append(list(test_df[i].loc[test_df[i]['itemId'] == item]['rating'])[0])\n",
        "\n",
        "  return ratings, unknown, random_seen"
      ],
      "execution_count": null,
      "outputs": []
    },
    {
      "cell_type": "markdown",
      "metadata": {
        "id": "i0j3nHjUAP24"
      },
      "source": [
        "## Train set"
      ]
    },
    {
      "cell_type": "markdown",
      "metadata": {
        "id": "OBZr_opifZss"
      },
      "source": [
        "#### Target = False"
      ]
    },
    {
      "cell_type": "code",
      "metadata": {
        "id": "vgqFYAsd8W-S"
      },
      "source": [
        "ratings, unknown, random_seen = test_actor(actor, dg.train, embeddings, dict_embeddings, ra_length, history_length, target=False, nb_rounds=10)\n",
        "print('%0.1f%% unknown' % (100 * unknown / (len(ratings) + unknown)))"
      ],
      "execution_count": null,
      "outputs": []
    },
    {
      "cell_type": "code",
      "metadata": {
        "id": "IGetmkeD95rP"
      },
      "source": [
        "plt.subplot(1, 2, 1)\n",
        "plt.hist(ratings)\n",
        "plt.title('Predictions ; Mean = %.4f' % (np.mean(ratings)))\n",
        "plt.subplot(1, 2, 2)\n",
        "plt.hist(random_seen)\n",
        "plt.title('Random ; Mean = %.4f' % (np.mean(random_seen)))\n",
        "plt.show()"
      ],
      "execution_count": null,
      "outputs": []
    },
    {
      "cell_type": "markdown",
      "metadata": {
        "id": "6FPKh8gafdcn"
      },
      "source": [
        "#### Target = True"
      ]
    },
    {
      "cell_type": "code",
      "metadata": {
        "id": "VvjYl_LTfGi9"
      },
      "source": [
        "ratings, unknown, random_seen = test_actor(actor, dg.train, embeddings, dict_embeddings, ra_length, history_length, target=True, nb_rounds=10)\n",
        "print('%0.1f%% unknown' % (100 * unknown / (len(ratings) + unknown)))"
      ],
      "execution_count": null,
      "outputs": []
    },
    {
      "cell_type": "code",
      "metadata": {
        "id": "2IKYVQ6gfIXk"
      },
      "source": [
        "plt.subplot(1, 2, 1)\n",
        "plt.hist(ratings)\n",
        "plt.title('Predictions ; Mean = %.4f' % (np.mean(ratings)))\n",
        "plt.subplot(1, 2, 2)\n",
        "plt.hist(random_seen)\n",
        "plt.title('Random ; Mean = %.4f' % (np.mean(random_seen)))\n",
        "plt.show()"
      ],
      "execution_count": null,
      "outputs": []
    },
    {
      "cell_type": "markdown",
      "metadata": {
        "id": "kFimdOkLASAn"
      },
      "source": [
        "## Test set"
      ]
    },
    {
      "cell_type": "markdown",
      "metadata": {
        "id": "x49sZSZIfgfN"
      },
      "source": [
        "#### Target = False"
      ]
    },
    {
      "cell_type": "code",
      "metadata": {
        "id": "EXhBwo6t-p5R"
      },
      "source": [
        "ratings, unknown, random_seen = test_actor(actor, dg.test, embeddings, dict_embeddings, ra_length, history_length, target=False, nb_rounds=100)\n",
        "print('%0.1f%% unknown' % (100 * unknown / (len(ratings) + unknown)))"
      ],
      "execution_count": null,
      "outputs": []
    },
    {
      "cell_type": "code",
      "metadata": {
        "id": "PFPjENrZAVsc"
      },
      "source": [
        "plt.subplot(1, 2, 1)\n",
        "plt.hist(ratings)\n",
        "plt.title('Predictions ; Mean = %.4f' % (np.mean(ratings)))\n",
        "plt.subplot(1, 2, 2)\n",
        "plt.hist(random_seen)\n",
        "plt.title('Random ; Mean = %.4f' % (np.mean(random_seen)))\n",
        "plt.show()"
      ],
      "execution_count": null,
      "outputs": []
    },
    {
      "cell_type": "markdown",
      "metadata": {
        "id": "Wg4QPFo7fkzn"
      },
      "source": [
        "#### Target = True"
      ]
    },
    {
      "cell_type": "code",
      "metadata": {
        "id": "0HCCXmcsAYkK"
      },
      "source": [
        "ratings, unknown, random_seen = test_actor(actor, dg.test, embeddings, dict_embeddings, ra_length, history_length, target=True, nb_rounds=100)\n",
        "print('%0.1f%% unknown' % (100 * unknown / (len(ratings) + unknown)))"
      ],
      "execution_count": null,
      "outputs": []
    },
    {
      "cell_type": "code",
      "metadata": {
        "id": "j5T4zKcJfTa1"
      },
      "source": [
        "plt.subplot(1, 2, 1)\n",
        "plt.hist(ratings)\n",
        "plt.title('Predictions ; Mean = %.4f' % (np.mean(ratings)))\n",
        "plt.subplot(1, 2, 2)\n",
        "plt.hist(random_seen)\n",
        "plt.title('Random ; Mean = %.4f' % (np.mean(random_seen)))\n",
        "plt.show()"
      ],
      "execution_count": null,
      "outputs": []
    },
    {
      "cell_type": "code",
      "metadata": {
        "id": "NVKRoOm7k_fn"
      },
      "source": [],
      "execution_count": null,
      "outputs": []
    }
  ]
}